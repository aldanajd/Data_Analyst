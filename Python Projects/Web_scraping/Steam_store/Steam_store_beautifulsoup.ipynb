{
 "cells": [
  {
   "cell_type": "code",
   "execution_count": 1,
   "metadata": {},
   "outputs": [],
   "source": [
    "# for e in driver.find_elements(By.CLASS_NAME, \"SaleSectionForCustomCSS\"):\n",
    "#     if \"filters\" in (e.text.lower()):\n",
    "#         y = e\n",
    "#         print(e)"
   ]
  },
  {
   "cell_type": "markdown",
   "metadata": {},
   "source": [
    "Setting the Enviroment"
   ]
  },
  {
   "cell_type": "code",
   "execution_count": 2,
   "metadata": {},
   "outputs": [],
   "source": [
    "from selenium import webdriver\n",
    "from selenium.webdriver.chrome.service import Service\n",
    "from webdriver_manager.chrome import ChromeDriverManager\n",
    "from selenium.webdriver.common.keys import Keys\n",
    "from selenium.webdriver.common.by import By \n",
    "from selenium.common.exceptions import NoSuchElementException, ElementClickInterceptedException\n",
    "\n",
    "import pandas as pd\n",
    "import time\n",
    "\n",
    "# CONSTANTS\n",
    "SERVICE = Service(ChromeDriverManager().install())\n",
    "DRIVER = webdriver.Chrome(service=SERVICE)\n",
    "URL = \"https://store.steampowered.com/specials\"\n",
    "GAMES_CLASS_NAME = \"ImpressionTrackedElement\"\n",
    "\n",
    "# Navigate to the desired URL\n",
    "DRIVER.get(URL) \n",
    "\n",
    "BODY = DRIVER.find_element(By.TAG_NAME, \"body\")"
   ]
  },
  {
   "cell_type": "code",
   "execution_count": 3,
   "metadata": {},
   "outputs": [],
   "source": [
    "REVIEWS = [\n",
    "    \"Overwhelmingly Positive\"\n",
    "    , \"Very Positive\"\n",
    "    , \"Mostly Positive\"\n",
    "    , \"Mixed\"\n",
    "    , \"Mostly Negative\"\n",
    "    , \"Very Negative\"\n",
    "    , \"Overwhelmingly Negative\"\n",
    "]"
   ]
  },
  {
   "cell_type": "code",
   "execution_count": 4,
   "metadata": {},
   "outputs": [],
   "source": [
    "TABS_CONTAINER = None\n",
    "\n",
    "while not TABS_CONTAINER:\n",
    "    BODY.send_keys(Keys.PAGE_DOWN)\n",
    "    TABS_CONTAINER = DRIVER.find_elements(By.XPATH, \"//div[contains(@class, 'Focusable') and @tabindex='0' and text()]\")"
   ]
  },
  {
   "cell_type": "code",
   "execution_count": 5,
   "metadata": {},
   "outputs": [],
   "source": [
    "time.sleep(2)\n",
    "\n",
    "MAIN_CONTAINER = TABS_CONTAINER[0]\n",
    "\n",
    "while \"$\" not in MAIN_CONTAINER.text:\n",
    "    MAIN_CONTAINER = MAIN_CONTAINER.find_element(By.XPATH, \"..\")\n",
    "\n",
    "GAMES_CONTAINER = MAIN_CONTAINER.find_elements(By.CLASS_NAME, GAMES_CLASS_NAME)"
   ]
  },
  {
   "cell_type": "code",
   "execution_count": 6,
   "metadata": {},
   "outputs": [],
   "source": [
    "while True:\n",
    "    try:\n",
    "        DRIVER.execute_script(\"arguments[0].click();\", TABS_CONTAINER[0])\n",
    "        break\n",
    "    except ElementClickInterceptedException:\n",
    "        print(\"Trying\")\n",
    "        TABS_CONTAINER[0].send_keys(Keys.PAGE_UP)\n",
    "        time.sleep(1)  "
   ]
  },
  {
   "cell_type": "code",
   "execution_count": null,
   "metadata": {},
   "outputs": [],
   "source": [
    "for tab in TABS_CONTAINER:\n",
    "    \n",
    "    while True:\n",
    "        try:\n",
    "            DRIVER.execute_script(\"arguments[0].click();\", tab)\n",
    "            break\n",
    "        except ElementClickInterceptedException:\n",
    "            print(\"Trying\")\n",
    "            tab.send_keys(Keys.PAGE_UP)\n",
    "            time.sleep(1)  \n",
    "\n",
    "    DATA_DICT = {\n",
    "    \"Name\" : []\n",
    "    , \"Reviews\" : []\n",
    "    , \"Reviews Number\" : []\n",
    "    , \"Discount\" : []\n",
    "    , \"Original Price\" : []\n",
    "    , \"Discounted Price\" : []\n",
    "}\n",
    "\n",
    "    for game_container in GAMES_CONTAINER:\n",
    "\n",
    "        game_container = game_container.text.strip()\n",
    "        game_container = game_container.split(\"\\n\")\n",
    "    \n",
    "        DATA_DICT[\"Name\"].append(game_container[0])\n",
    "        \n",
    "        reviews = [game_string for game_string in game_container if game_string in REVIEWS]\n",
    "        reviews = str(reviews).replace('[', '').replace(']', '')\n",
    "        DATA_DICT[\"Reviews\"].append(reviews)\n",
    "        \n",
    "        reviews_number = [game_string for game_string in game_container if \"User Reviews\" in game_string]\n",
    "        reviews_number = str(reviews_number).replace('[', '').replace(']', '')\n",
    "        DATA_DICT[\"Reviews Number\"].append(reviews_number)\n",
    "\n",
    "        discount = [game_string for game_string in game_container if game_string.endswith(\"%\")]  \n",
    "        discount = str(discount).replace('[', '').replace(']', '') \n",
    "        if not discount:\n",
    "            discount = None    \n",
    "        DATA_DICT[\"Discount\"].append(discount)\n",
    "\n",
    "        price = [game_string for game_string in game_container if game_string.startswith(\"$\")]\n",
    "\n",
    "        if price:\n",
    "            DATA_DICT[\"Original Price\"].append(price[0])\n",
    "            if len(price)>1:\n",
    "                DATA_DICT[\"Discounted Price\"].append(price[1])           \n",
    "        else:\n",
    "            price = \"Coming Soon\"\n",
    "            DATA_DICT[\"Original Price\"].append(price)\n",
    "            DATA_DICT[\"Discounted Price\"].append(None)\n",
    "\n",
    "    print(pd.DataFrame.from_dict(DATA_DICT))"
   ]
  },
  {
   "cell_type": "code",
   "execution_count": null,
   "metadata": {},
   "outputs": [],
   "source": []
  },
  {
   "cell_type": "code",
   "execution_count": 9,
   "metadata": {},
   "outputs": [
    {
     "name": "stdout",
     "output_type": "stream",
     "text": [
      "Name\n",
      "12\n",
      "['Grand Theft Auto V', 'FINAL FANTASY VII REBIRTH', 'Black Desert', 'Sengoku Dynasty', 'Elite Dangerous', 'Beyond Citadel', 'BioShock Infinite', 'OUTBRK', 'LEGO® Bricktales', 'Automation - The Car Company Tycoon Game', 'Tainted Grail: The Fall of Avalon', 'shapez 2']\n",
      "Reviews\n",
      "12\n",
      "[\"'Very Positive'\", '', '', \"'Mostly Positive'\", \"'Mostly Positive'\", \"'Very Positive'\", \"'Very Positive'\", \"'Mostly Positive'\", \"'Very Positive'\", \"'Very Positive'\", \"'Very Positive'\", \"'Overwhelmingly Positive'\"]\n",
      "Reviews Number\n",
      "12\n",
      "[\"'1,764,976 User Reviews'\", '', '', \"'4,332 User Reviews'\", \"'73,761 User Reviews'\", \"'118 User Reviews'\", \"'103,942 User Reviews'\", \"'1,291 User Reviews'\", \"'932 User Reviews'\", \"'12,317 User Reviews'\", \"'3,082 User Reviews'\", \"'8,883 User Reviews'\"]\n",
      "Discount\n",
      "12\n",
      "[None, \"'-30%'\", \"'-100%'\", \"'-25%'\", \"'-75%'\", \"'-10%'\", \"'-75%'\", \"'-25%'\", \"'-75%'\", \"'-25%'\", \"'-30%'\", \"'-25%'\"]\n",
      "Original Price\n",
      "12\n",
      "['$14.80', '$69.99', '$9.99', '$29.99', '$19.99', '$14.99', '$29.99', '$34.99', '$29.99', '$29.99', '$29.99', '$24.99']\n",
      "Discounted Price\n",
      "11\n",
      "['$48.99', '$0.00', '$22.49', '$4.99', '$13.49', '$7.49', '$26.24', '$7.49', '$22.49', '$20.99', '$18.74']\n"
     ]
    }
   ],
   "source": [
    "for key,value in DATA_DICT.items():\n",
    "    print(key)\n",
    "    print(len(value))\n",
    "    print(value)"
   ]
  },
  {
   "cell_type": "markdown",
   "metadata": {},
   "source": [
    "# Less Garbage"
   ]
  },
  {
   "cell_type": "code",
   "execution_count": null,
   "metadata": {},
   "outputs": [],
   "source": [
    "element = driver.find_element(By.TAG_NAME, \"body\")\n",
    "ATTEMPT_NUMBER = 0\n",
    "\n",
    "while True:\n",
    "    try: \n",
    "        top_sellers = driver.find_element(By.XPATH, \"//*[text()='Top Sellers']\")\n",
    "        break\n",
    "    except NoSuchElementException:\n",
    "        ATTEMPT_NUMBER += 1\n",
    "        print(f\"Attempt #{ATTEMPT_NUMBER} to Find the Element...\") \n",
    "        element.send_keys(Keys.PAGE_DOWN)\n",
    "\n",
    "#is enabled\n",
    "#is_displayed"
   ]
  },
  {
   "cell_type": "code",
   "execution_count": null,
   "metadata": {},
   "outputs": [],
   "source": [
    "GAMES_LISTS = [\"Top Sellers\", \"New & Trending\", \"Top Rated\", \"Discounted\", \"Upcoming\"]\n",
    "GAMES_CLASS_NAME = \"ImpressionTrackedElement\"\n",
    "\n",
    "\n",
    "\n",
    "games_lists_elements = [driver.find_element(By.XPATH, f\"//*[text()='{LIST}']\") for LIST in GAMES_LISTS]"
   ]
  },
  {
   "cell_type": "code",
   "execution_count": null,
   "metadata": {},
   "outputs": [],
   "source": [
    "for games_list_element in games_lists_elements:\n",
    "    games_list_element.click()\n",
    "\n",
    "    DATA_DICT = {\n",
    "    \"Name\" : []\n",
    "    , \"Reviews\" : []\n",
    "    , \"Reviews Number\" : []\n",
    "    , \"Discount\" : []\n",
    "    , \"Original Price\" : []\n",
    "    , \"Discounted Price\" : []\n",
    "}\n",
    "\n",
    "    while \"$\" not in games_list_element.text:\n",
    "        games_list_element = games_list_element.find_element(By.XPATH, \"..\")\n",
    "\n",
    "    for game in games_list_element.find_elements(By.CLASS_NAME, GAMES_CLASS_NAME):\n",
    "\n",
    "        game = game.text.strip().split(\"\\n\")\n",
    "        game = [g_str.strip() for g_str in game]\n",
    "\n",
    "        DATA_DICT[\"Name\"].append(game[0])\n",
    "        DATA_DICT[\"Reviews\"].append(game[3]) \n",
    "        DATA_DICT[\"Reviews Number\"].append(game[4])\n",
    "        DATA_DICT[\"Discount\"].append(game[6])\n",
    "        DATA_DICT[\"Original Price\"].append(game[7]) \n",
    "        DATA_DICT[\"Discounted Price\"].append(game[8])\n",
    "\n",
    "    print(pd.DataFrame.from_dict(DATA_DICT))"
   ]
  },
  {
   "cell_type": "markdown",
   "metadata": {},
   "source": [
    "# Garbage"
   ]
  },
  {
   "cell_type": "code",
   "execution_count": null,
   "metadata": {},
   "outputs": [],
   "source": [
    "#Loading Dependencies\n",
    "\n",
    "import pandas as pd\n",
    "import requests as r\n",
    "from bs4 import BeautifulSoup as bs"
   ]
  },
  {
   "cell_type": "code",
   "execution_count": null,
   "metadata": {},
   "outputs": [],
   "source": [
    "#Creating the Soup\n",
    "\n",
    "base_url = \"https://store.steampowered.com/specials\"\n",
    "html_content = r.get(base_url).content\n",
    "soup = bs(html_content, \"lxml\")\n",
    "\n",
    "#Exporting the Soup for Readability\n",
    "with open(\"steam_store_specials2.html\", \"wb\") as file:\n",
    "    file.write(html_content)"
   ]
  },
  {
   "cell_type": "markdown",
   "metadata": {},
   "source": [
    "Nested Tree"
   ]
  },
  {
   "cell_type": "code",
   "execution_count": null,
   "metadata": {},
   "outputs": [],
   "source": [
    "# div tab_content_ctn sub\n",
    "#     h2 tab_content_title\n",
    "#     div tab_content_section_ctn\n",
    "#         a class=\"tab_item\"\n",
    "#             div class=\"tab_item_name\"\n",
    "#             div class=\"discount_pct\"\n",
    "#             div class=\"discount_original_price\"\n",
    "#             div class=\"discount_final_price\""
   ]
  },
  {
   "cell_type": "code",
   "execution_count": null,
   "metadata": {},
   "outputs": [],
   "source": [
    "soup.find_all(\"div\", class_=\"Eh-ow8RpArn1HQyPR8RFY Panel Focusable\")"
   ]
  },
  {
   "cell_type": "markdown",
   "metadata": {},
   "source": [
    "Creating the Container"
   ]
  },
  {
   "cell_type": "code",
   "execution_count": null,
   "metadata": {},
   "outputs": [],
   "source": [
    "container = soup.find('div', class_ = 'tab_content_ctn sub')\n",
    "type(container)"
   ]
  },
  {
   "cell_type": "markdown",
   "metadata": {},
   "source": [
    "Extracting the Tabs Names"
   ]
  },
  {
   "cell_type": "code",
   "execution_count": null,
   "metadata": {},
   "outputs": [],
   "source": [
    "tabs_names = [c.text for c in container.find_all('h2')]\n",
    "tabs_names\n",
    "\n",
    "df = pd.DataFrame(columns=tabs_names)\n",
    "df"
   ]
  },
  {
   "cell_type": "markdown",
   "metadata": {},
   "source": [
    "Extracting the Tabs Content"
   ]
  },
  {
   "cell_type": "code",
   "execution_count": null,
   "metadata": {},
   "outputs": [],
   "source": [
    "tabs_content = container.find_all('div', class_ = 'tab_content_section_ctn')\n",
    "type(tabs_content)"
   ]
  },
  {
   "cell_type": "markdown",
   "metadata": {},
   "source": [
    "Extracting the Games Details from Each Tab"
   ]
  },
  {
   "cell_type": "code",
   "execution_count": null,
   "metadata": {},
   "outputs": [],
   "source": [
    "games_details = [c.find_all('a', class_=\"tab_item\") for c in tabs_content]\n",
    "type(games_details)"
   ]
  },
  {
   "cell_type": "code",
   "execution_count": null,
   "metadata": {},
   "outputs": [],
   "source": [
    "#Extracting the Name of Each Game from Each tab\n",
    "\n",
    "game_name = [[l.find('div', class_=\"tab_item_name\").text for l in g] for g in games_details]\n",
    "game_name"
   ]
  },
  {
   "cell_type": "code",
   "execution_count": null,
   "metadata": {},
   "outputs": [],
   "source": [
    "#Extracting the Original Price of Each Game from Each tab\n",
    "game_original_price = [[float((l.find('div', class_=\"discount_original_price\").text).strip('$')) for l in g] for g in games_details]\n",
    "game_original_price"
   ]
  },
  {
   "cell_type": "code",
   "execution_count": null,
   "metadata": {},
   "outputs": [],
   "source": [
    "#Extracting the Discount % of Each Game from Each tab\n",
    "game_discount = [[int((l.find('div', class_=\"discount_pct\").text).strip('-%')) for l in g] for g in games_details]\n",
    "game_discount"
   ]
  },
  {
   "cell_type": "code",
   "execution_count": null,
   "metadata": {},
   "outputs": [],
   "source": [
    "#Extracting the Final Price of Each Game from Each tab\n",
    "game_final_price = [[float((l.find('div', class_=\"discount_final_price\").text).strip('$')) for l in g] for g in games_details]\n",
    "game_final_price"
   ]
  },
  {
   "cell_type": "code",
   "execution_count": null,
   "metadata": {},
   "outputs": [],
   "source": [
    "idx = 0\n",
    "pd_data = [[],[],[],[]]\n",
    "columns_list = ['Name', 'Original Price', 'Discount', \"Final Price\"]\n",
    "\n",
    "for i in range(4):\n",
    "    pd_data[idx] = pd.DataFrame([game_name[idx], game_original_price[idx], game_discount[idx], game_final_price[idx]], index=columns_list).T\n",
    "    idx += 1"
   ]
  },
  {
   "cell_type": "code",
   "execution_count": null,
   "metadata": {},
   "outputs": [],
   "source": [
    "pd_data[0]"
   ]
  },
  {
   "cell_type": "code",
   "execution_count": null,
   "metadata": {},
   "outputs": [],
   "source": [
    "pd_data[1]"
   ]
  },
  {
   "cell_type": "code",
   "execution_count": null,
   "metadata": {},
   "outputs": [],
   "source": [
    "pd_data[2]"
   ]
  },
  {
   "cell_type": "code",
   "execution_count": null,
   "metadata": {},
   "outputs": [],
   "source": [
    "pd_data[3]"
   ]
  },
  {
   "cell_type": "markdown",
   "metadata": {},
   "source": [
    "Exporting the Data"
   ]
  },
  {
   "cell_type": "code",
   "execution_count": null,
   "metadata": {},
   "outputs": [],
   "source": [
    "new_and_trending = pd.DataFrame()\n",
    "top_sellers = pd.DataFrame()\n",
    "being_played = pd.DataFrame()\n",
    "pre_purchase = pd.DataFrame()\n",
    "\n",
    "new_and_trending['Name'] = game_name[0]\n",
    "new_and_trending['Original Price'] = game_original_price[0]\n",
    "new_and_trending['Discount %'] = game_discount[0]\n",
    "new_and_trending['Final Price'] = game_final_price[0]\n",
    "\n",
    "top_sellers['Name'] = game_name[1]\n",
    "top_sellers['Original Price'] = game_original_price[1]\n",
    "top_sellers['Discount %'] = game_discount[1]\n",
    "top_sellers['Final Price'] = game_final_price[1]\n",
    "\n",
    "being_played['Name'] = game_name[2]\n",
    "being_played['Original Price'] = game_original_price[2]\n",
    "being_played['Discount %'] = game_discount[2]\n",
    "being_played['Final Price'] = game_final_price[2]\n",
    "\n",
    "pre_purchase['Name'] = game_name[3]\n",
    "pre_purchase['Original Price'] = game_original_price[3]\n",
    "pre_purchase['Discount %'] = game_discount[3]\n",
    "pre_purchase['Final Price'] = game_final_price[3]"
   ]
  },
  {
   "cell_type": "code",
   "execution_count": null,
   "metadata": {},
   "outputs": [],
   "source": [
    "new_and_trending"
   ]
  },
  {
   "cell_type": "code",
   "execution_count": null,
   "metadata": {},
   "outputs": [],
   "source": [
    "top_sellers"
   ]
  },
  {
   "cell_type": "code",
   "execution_count": null,
   "metadata": {},
   "outputs": [],
   "source": [
    "being_played"
   ]
  },
  {
   "cell_type": "code",
   "execution_count": null,
   "metadata": {},
   "outputs": [],
   "source": [
    "pre_purchase"
   ]
  },
  {
   "cell_type": "code",
   "execution_count": null,
   "metadata": {},
   "outputs": [],
   "source": []
  }
 ],
 "metadata": {
  "kernelspec": {
   "display_name": ".venv",
   "language": "python",
   "name": "python3"
  },
  "language_info": {
   "codemirror_mode": {
    "name": "ipython",
    "version": 3
   },
   "file_extension": ".py",
   "mimetype": "text/x-python",
   "name": "python",
   "nbconvert_exporter": "python",
   "pygments_lexer": "ipython3",
   "version": "3.12.7"
  },
  "orig_nbformat": 4
 },
 "nbformat": 4,
 "nbformat_minor": 2
}
