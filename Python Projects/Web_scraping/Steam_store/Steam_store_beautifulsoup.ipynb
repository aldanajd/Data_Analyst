{
 "cells": [
  {
   "cell_type": "markdown",
   "metadata": {},
   "source": [
    "Setting the Enviroment"
   ]
  },
  {
   "cell_type": "code",
   "execution_count": 48,
   "metadata": {},
   "outputs": [],
   "source": [
    "from selenium import webdriver\n",
    "from selenium.webdriver.chrome.service import Service\n",
    "from webdriver_manager.chrome import ChromeDriverManager\n",
    "from selenium.webdriver.common.keys import Keys\n",
    "import time\n",
    "\n",
    "# Initialize the WebDriver\n",
    "service = Service(ChromeDriverManager().install())\n",
    "driver = webdriver.Chrome(service=service)\n",
    "\n",
    "# Navigate to the desired URL\n",
    "driver.get(\"https://store.steampowered.com/specials\") \n",
    "# Get the HTML source of the entire page\n",
    "\n",
    "# Close the WebDriver"
   ]
  },
  {
   "cell_type": "code",
   "execution_count": null,
   "metadata": {},
   "outputs": [],
   "source": [
    "for _ in range(10):\n",
    "    driver.send_keys(Keys.PAGE_DOWN)"
   ]
  },
  {
   "cell_type": "code",
   "execution_count": null,
   "metadata": {},
   "outputs": [],
   "source": [
    "html_source = driver.page_source\n",
    "\n",
    "# Print or use the HTML source as needed\n",
    "print(html_source) "
   ]
  },
  {
   "cell_type": "code",
   "execution_count": 46,
   "metadata": {},
   "outputs": [],
   "source": [
    "html_bytes = html_source.encode('utf-8')"
   ]
  },
  {
   "cell_type": "code",
   "execution_count": 47,
   "metadata": {},
   "outputs": [],
   "source": [
    "with open(\"steam_store_specials2.html\", \"wb\") as file:\n",
    "    file.write(html_bytes)"
   ]
  },
  {
   "cell_type": "code",
   "execution_count": null,
   "metadata": {},
   "outputs": [],
   "source": [
    "#Loading Dependencies\n",
    "\n",
    "import pandas as pd\n",
    "import requests as r\n",
    "from bs4 import BeautifulSoup as bs"
   ]
  },
  {
   "cell_type": "code",
   "execution_count": 21,
   "metadata": {},
   "outputs": [],
   "source": [
    "#Creating the Soup\n",
    "\n",
    "base_url = \"https://store.steampowered.com/specials\"\n",
    "html_content = r.get(base_url).content\n",
    "soup = bs(html_content, \"lxml\")\n",
    "\n",
    "#Exporting the Soup for Readability\n",
    "with open(\"steam_store_specials2.html\", \"wb\") as file:\n",
    "    file.write(html_content)"
   ]
  },
  {
   "cell_type": "markdown",
   "metadata": {},
   "source": [
    "Nested Tree"
   ]
  },
  {
   "cell_type": "code",
   "execution_count": 15,
   "metadata": {},
   "outputs": [],
   "source": [
    "# div tab_content_ctn sub\n",
    "#     h2 tab_content_title\n",
    "#     div tab_content_section_ctn\n",
    "#         a class=\"tab_item\"\n",
    "#             div class=\"tab_item_name\"\n",
    "#             div class=\"discount_pct\"\n",
    "#             div class=\"discount_original_price\"\n",
    "#             div class=\"discount_final_price\""
   ]
  },
  {
   "cell_type": "code",
   "execution_count": null,
   "metadata": {},
   "outputs": [],
   "source": [
    "soup.find_all(\"div\", class_=\"Eh-ow8RpArn1HQyPR8RFY Panel Focusable\")"
   ]
  },
  {
   "cell_type": "markdown",
   "metadata": {},
   "source": [
    "Creating the Container"
   ]
  },
  {
   "cell_type": "code",
   "execution_count": 4,
   "metadata": {},
   "outputs": [
    {
     "data": {
      "text/plain": [
       "NoneType"
      ]
     },
     "execution_count": 4,
     "metadata": {},
     "output_type": "execute_result"
    }
   ],
   "source": [
    "container = soup.find('div', class_ = 'tab_content_ctn sub')\n",
    "type(container)"
   ]
  },
  {
   "cell_type": "markdown",
   "metadata": {},
   "source": [
    "Extracting the Tabs Names"
   ]
  },
  {
   "cell_type": "code",
   "execution_count": 5,
   "metadata": {},
   "outputs": [
    {
     "ename": "AttributeError",
     "evalue": "'NoneType' object has no attribute 'find_all'",
     "output_type": "error",
     "traceback": [
      "\u001b[1;31m---------------------------------------------------------------------------\u001b[0m",
      "\u001b[1;31mAttributeError\u001b[0m                            Traceback (most recent call last)",
      "Cell \u001b[1;32mIn[5], line 1\u001b[0m\n\u001b[1;32m----> 1\u001b[0m tabs_names \u001b[38;5;241m=\u001b[39m [c\u001b[38;5;241m.\u001b[39mtext \u001b[38;5;28;01mfor\u001b[39;00m c \u001b[38;5;129;01min\u001b[39;00m \u001b[43mcontainer\u001b[49m\u001b[38;5;241;43m.\u001b[39;49m\u001b[43mfind_all\u001b[49m(\u001b[38;5;124m'\u001b[39m\u001b[38;5;124mh2\u001b[39m\u001b[38;5;124m'\u001b[39m)]\n\u001b[0;32m      2\u001b[0m tabs_names\n\u001b[0;32m      4\u001b[0m df \u001b[38;5;241m=\u001b[39m pd\u001b[38;5;241m.\u001b[39mDataFrame(columns\u001b[38;5;241m=\u001b[39mtabs_names)\n",
      "\u001b[1;31mAttributeError\u001b[0m: 'NoneType' object has no attribute 'find_all'"
     ]
    }
   ],
   "source": [
    "tabs_names = [c.text for c in container.find_all('h2')]\n",
    "tabs_names\n",
    "\n",
    "df = pd.DataFrame(columns=tabs_names)\n",
    "df"
   ]
  },
  {
   "cell_type": "markdown",
   "metadata": {},
   "source": [
    "Extracting the Tabs Content"
   ]
  },
  {
   "cell_type": "code",
   "execution_count": null,
   "metadata": {},
   "outputs": [],
   "source": [
    "tabs_content = container.find_all('div', class_ = 'tab_content_section_ctn')\n",
    "type(tabs_content)"
   ]
  },
  {
   "cell_type": "markdown",
   "metadata": {},
   "source": [
    "Extracting the Games Details from Each Tab"
   ]
  },
  {
   "cell_type": "code",
   "execution_count": null,
   "metadata": {},
   "outputs": [],
   "source": [
    "games_details = [c.find_all('a', class_=\"tab_item\") for c in tabs_content]\n",
    "type(games_details)"
   ]
  },
  {
   "cell_type": "code",
   "execution_count": null,
   "metadata": {},
   "outputs": [],
   "source": [
    "#Extracting the Name of Each Game from Each tab\n",
    "\n",
    "game_name = [[l.find('div', class_=\"tab_item_name\").text for l in g] for g in games_details]\n",
    "game_name"
   ]
  },
  {
   "cell_type": "code",
   "execution_count": null,
   "metadata": {},
   "outputs": [],
   "source": [
    "#Extracting the Original Price of Each Game from Each tab\n",
    "game_original_price = [[float((l.find('div', class_=\"discount_original_price\").text).strip('$')) for l in g] for g in games_details]\n",
    "game_original_price"
   ]
  },
  {
   "cell_type": "code",
   "execution_count": null,
   "metadata": {},
   "outputs": [],
   "source": [
    "#Extracting the Discount % of Each Game from Each tab\n",
    "game_discount = [[int((l.find('div', class_=\"discount_pct\").text).strip('-%')) for l in g] for g in games_details]\n",
    "game_discount"
   ]
  },
  {
   "cell_type": "code",
   "execution_count": null,
   "metadata": {},
   "outputs": [],
   "source": [
    "#Extracting the Final Price of Each Game from Each tab\n",
    "game_final_price = [[float((l.find('div', class_=\"discount_final_price\").text).strip('$')) for l in g] for g in games_details]\n",
    "game_final_price"
   ]
  },
  {
   "cell_type": "code",
   "execution_count": null,
   "metadata": {},
   "outputs": [],
   "source": [
    "idx = 0\n",
    "pd_data = [[],[],[],[]]\n",
    "columns_list = ['Name', 'Original Price', 'Discount', \"Final Price\"]\n",
    "\n",
    "for i in range(4):\n",
    "    pd_data[idx] = pd.DataFrame([game_name[idx], game_original_price[idx], game_discount[idx], game_final_price[idx]], index=columns_list).T\n",
    "    idx += 1"
   ]
  },
  {
   "cell_type": "code",
   "execution_count": null,
   "metadata": {},
   "outputs": [],
   "source": [
    "pd_data[0]"
   ]
  },
  {
   "cell_type": "code",
   "execution_count": null,
   "metadata": {},
   "outputs": [],
   "source": [
    "pd_data[1]"
   ]
  },
  {
   "cell_type": "code",
   "execution_count": null,
   "metadata": {},
   "outputs": [],
   "source": [
    "pd_data[2]"
   ]
  },
  {
   "cell_type": "code",
   "execution_count": null,
   "metadata": {},
   "outputs": [],
   "source": [
    "pd_data[3]"
   ]
  },
  {
   "cell_type": "markdown",
   "metadata": {},
   "source": [
    "Exporting the Data"
   ]
  },
  {
   "cell_type": "code",
   "execution_count": null,
   "metadata": {},
   "outputs": [],
   "source": [
    "new_and_trending = pd.DataFrame()\n",
    "top_sellers = pd.DataFrame()\n",
    "being_played = pd.DataFrame()\n",
    "pre_purchase = pd.DataFrame()\n",
    "\n",
    "new_and_trending['Name'] = game_name[0]\n",
    "new_and_trending['Original Price'] = game_original_price[0]\n",
    "new_and_trending['Discount %'] = game_discount[0]\n",
    "new_and_trending['Final Price'] = game_final_price[0]\n",
    "\n",
    "top_sellers['Name'] = game_name[1]\n",
    "top_sellers['Original Price'] = game_original_price[1]\n",
    "top_sellers['Discount %'] = game_discount[1]\n",
    "top_sellers['Final Price'] = game_final_price[1]\n",
    "\n",
    "being_played['Name'] = game_name[2]\n",
    "being_played['Original Price'] = game_original_price[2]\n",
    "being_played['Discount %'] = game_discount[2]\n",
    "being_played['Final Price'] = game_final_price[2]\n",
    "\n",
    "pre_purchase['Name'] = game_name[3]\n",
    "pre_purchase['Original Price'] = game_original_price[3]\n",
    "pre_purchase['Discount %'] = game_discount[3]\n",
    "pre_purchase['Final Price'] = game_final_price[3]"
   ]
  },
  {
   "cell_type": "code",
   "execution_count": null,
   "metadata": {},
   "outputs": [],
   "source": [
    "new_and_trending"
   ]
  },
  {
   "cell_type": "code",
   "execution_count": null,
   "metadata": {},
   "outputs": [],
   "source": [
    "top_sellers"
   ]
  },
  {
   "cell_type": "code",
   "execution_count": null,
   "metadata": {},
   "outputs": [],
   "source": [
    "being_played"
   ]
  },
  {
   "cell_type": "code",
   "execution_count": null,
   "metadata": {},
   "outputs": [],
   "source": [
    "pre_purchase"
   ]
  }
 ],
 "metadata": {
  "kernelspec": {
   "display_name": ".venv",
   "language": "python",
   "name": "python3"
  },
  "language_info": {
   "codemirror_mode": {
    "name": "ipython",
    "version": 3
   },
   "file_extension": ".py",
   "mimetype": "text/x-python",
   "name": "python",
   "nbconvert_exporter": "python",
   "pygments_lexer": "ipython3",
   "version": "3.12.7"
  },
  "orig_nbformat": 4
 },
 "nbformat": 4,
 "nbformat_minor": 2
}
