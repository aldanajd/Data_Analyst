{
 "cells": [
  {
   "cell_type": "code",
   "execution_count": null,
   "metadata": {},
   "outputs": [],
   "source": [
    "import seaborn as sns\n",
    "import numpy as np"
   ]
  },
  {
   "cell_type": "code",
   "execution_count": 19,
   "metadata": {},
   "outputs": [
    {
     "data": {
      "text/plain": [
       "array([['30', '27', '26', '22', '28', '50'],\n",
       "       ['Carol', 'Jane', 'Daniel', 'Yas', 'Kate', 'Bob']], dtype='<U11')"
      ]
     },
     "execution_count": 19,
     "metadata": {},
     "output_type": "execute_result"
    }
   ],
   "source": [
    "#Create\n",
    "list_example = [1.6, 1.66, 1.75, 1.7, 1.64, 1.8]\n",
    "list_example2 = [30, 27, 26, 22, 28, 50]\n",
    "list_example3 = [\"Carol\", \"Jane\", \"Daniel\", \"Yas\", \"Kate\", \"Bob\"]\n",
    "list_example4 = [\"Female\", \"Female\", \"Male\", \"Male\", \"Female\", \"Male\"]\n",
    "list_example5 = np.arange(12).reshape(3,4)\n",
    "np_heights = np.array(list_example)\n",
    "np_ages = np.array(list_example2)\n",
    "np_names = np.array(list_example3)\n",
    "np_genders = np.array(list_example4)\n",
    "\n",
    "#Combining\n",
    "np_combine = np.array((np_heights, np_ages))\n",
    "a = np.array([[1, 2]]); b = np.array([[5, 6]]); np.concatenate((a, b), axis=0)\n",
    "\n",
    "#Can only contain 1 type of data-type per array\n",
    "np_example = np.array((np_ages, np_names)); np_example"
   ]
  },
  {
   "cell_type": "code",
   "execution_count": null,
   "metadata": {},
   "outputs": [],
   "source": [
    "#Subsetting\n",
    "np_ages[1]\n",
    "np_ages[0:3]\n",
    "np_combine[1][0]\n",
    "np_combine[1,0]\n",
    "np_combine[:,0:2]\n",
    "np_ages > 27\n",
    "np_ages[np_ages > 27]\n",
    "\n",
    "#Filtering\n",
    "females = np.array(np_names[np_genders == \"Female\"])\n",
    "males = np.array(np_names[np_genders == \"Male\"])\n",
    "\n",
    "females.shape[0], males.shape[0]"
   ]
  },
  {
   "cell_type": "code",
   "execution_count": null,
   "metadata": {},
   "outputs": [],
   "source": [
    "#Operation and Updating Values\n",
    "doubling_ages = np_ages * 2 ; doubling_ages\n",
    "\n",
    "np_mat = np.array([[1, 2],\n",
    "                   [3, 4],\n",
    "                   [5, 6]])\n",
    "np_mat = np_mat * 2\n",
    "np_mat = np_mat + np.array([10, 10])\n",
    "np_mat = np_mat + np_mat ; np_mat"
   ]
  },
  {
   "cell_type": "code",
   "execution_count": null,
   "metadata": {},
   "outputs": [],
   "source": [
    "#Statistics\n",
    "np_avg_height = np.mean(np_combine[0,:])\n",
    "np_median_height = np.median(np_combine[0,:])\n",
    "np_correlated = np.corrcoef(np_ages, np_heights)\n",
    "np_standard_deviation_avg_distant_to_the_mean = np.std(np_ages)\n",
    "np_combine, np_avg_height, np_median_height, np_correlated, np_standard_deviation_avg_distant_to_the_mean\n",
    "\n"
   ]
  },
  {
   "cell_type": "code",
   "execution_count": 20,
   "metadata": {},
   "outputs": [
    {
     "data": {
      "text/plain": [
       "(array(['Carol', 'Jane', 'Kate'], dtype='<U6'),\n",
       " array(['Carol', 'Jane'], dtype='<U6'))"
      ]
     },
     "execution_count": 20,
     "metadata": {},
     "output_type": "execute_result"
    }
   ],
   "source": [
    "#Delete\n",
    "females, np.delete(females, 2, 0)"
   ]
  }
 ],
 "metadata": {
  "interpreter": {
   "hash": "27f7027287d0420c17ddf1ee3a6e27c4da757938958e2fc007cfc07292c6f624"
  },
  "kernelspec": {
   "display_name": "Python 3.9.5 64-bit",
   "name": "python3"
  },
  "language_info": {
   "codemirror_mode": {
    "name": "ipython",
    "version": 3
   },
   "file_extension": ".py",
   "mimetype": "text/x-python",
   "name": "python",
   "nbconvert_exporter": "python",
   "pygments_lexer": "ipython3",
   "version": "3.9.5"
  },
  "orig_nbformat": 4
 },
 "nbformat": 4,
 "nbformat_minor": 2
}
