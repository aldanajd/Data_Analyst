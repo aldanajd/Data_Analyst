{
 "cells": [
  {
   "cell_type": "code",
   "execution_count": null,
   "metadata": {},
   "outputs": [],
   "source": [
    "#Reduce Function\n",
    "\n",
    "# Step 1) Perform the defined operation on the first 2 elements of the sequence.\n",
    "# Step 2) Save this result\n",
    "# Step 3) Perform the operation with the saved result and the next element in the sequence.\n",
    "# Step 4) Repeat until no more elements are left.\n",
    "\n",
    "#Takes 2 Arguments:\n",
    "#A function that defines the operation to be performed\n",
    "#A sequence (any iterator like lists, tuples, etc.)\n",
    "\n",
    "from functools import reduce\n",
    "\n",
    "sequences = [1,2,3,4,5]\n",
    "product = reduce (lambda x, y: x*y, sequences)\n",
    "print(product)"
   ]
  },
  {
   "cell_type": "code",
   "execution_count": null,
   "metadata": {},
   "outputs": [],
   "source": [
    "#Map function is used to apply a particular operation to every element in a sequence\n",
    "\n",
    "#Arguments:\n",
    "#A function that defines the op to perform on the elements\n",
    "#One or more sequences\n",
    "\n",
    "sequences = [10,2,8,7,5,4,3,11,0, 1]\n",
    "filtered_result = map (lambda x: x*x, sequences) \n",
    "print(list(filtered_result))"
   ]
  },
  {
   "cell_type": "code",
   "execution_count": null,
   "metadata": {},
   "outputs": [],
   "source": [
    "#Filter function is used to select some particular elements from a sequence of elements\n",
    "\n",
    "#Arguments:\n",
    "#A function that defines the filtering constraint\n",
    "#A sequence (any iterator like lists, tuples, etc.)\n",
    "\n",
    "sequences = [10,2,8,7,5,4,3,11,0, 1]\n",
    "filtered_result = filter (lambda x: x > 4, sequences) \n",
    "print(list(filtered_result))"
   ]
  }
 ],
 "metadata": {
  "interpreter": {
   "hash": "27f7027287d0420c17ddf1ee3a6e27c4da757938958e2fc007cfc07292c6f624"
  },
  "kernelspec": {
   "display_name": "Python 3.9.5 64-bit",
   "name": "python3"
  },
  "language_info": {
   "codemirror_mode": {
    "name": "ipython",
    "version": 3
   },
   "file_extension": ".py",
   "mimetype": "text/x-python",
   "name": "python",
   "nbconvert_exporter": "python",
   "pygments_lexer": "ipython3",
   "version": "3.9.5"
  },
  "orig_nbformat": 4
 },
 "nbformat": 4,
 "nbformat_minor": 2
}
