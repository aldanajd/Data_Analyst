{
 "cells": [
  {
   "cell_type": "code",
   "execution_count": null,
   "metadata": {},
   "outputs": [],
   "source": [
    "import pandas as pd"
   ]
  },
  {
   "cell_type": "markdown",
   "metadata": {},
   "source": [
    "OPTIONS"
   ]
  },
  {
   "cell_type": "code",
   "execution_count": null,
   "metadata": {},
   "outputs": [],
   "source": [
    "pd.set_option(\"max_rows\", None)\n",
    "pd.set_option(\"display.max_columns\", 20)\n",
    "pd.set_option(\"display.max_rows\", 20)\n",
    "pd.set_option('display.float_format', lambda x: '%.8f' % x)"
   ]
  },
  {
   "cell_type": "markdown",
   "metadata": {},
   "source": [
    "SAVE & READ"
   ]
  },
  {
   "cell_type": "code",
   "execution_count": null,
   "metadata": {},
   "outputs": [],
   "source": [
    "#Read\n",
    "df = pd.read_csv(\"0.2 - Data Example - Titanic\", index_col = 0) #Add \"parse_dates = True\" To Treat Dates\n",
    "df.head()"
   ]
  },
  {
   "cell_type": "code",
   "execution_count": null,
   "metadata": {},
   "outputs": [],
   "source": [
    "#Save\n",
    "matrix = [['tom', 10], ['nick', 15], ['juli', 14]]\n",
    "data_frame = pd.DataFrame(matrix, columns = ['Name', 'Age'])\n",
    "to_csv = data_frame.to_csv(\"data_example\")"
   ]
  },
  {
   "cell_type": "markdown",
   "metadata": {},
   "source": [
    "CREATING"
   ]
  },
  {
   "cell_type": "code",
   "execution_count": null,
   "metadata": {},
   "outputs": [],
   "source": [
    "#From a List/Matrix\n",
    "data_list = [['tom', 10], ['nick', 15], ['juli', 14]]\n",
    "data_list = pd.DataFrame(data_list, columns = ['Name', 'Age'])\n",
    "data_list"
   ]
  },
  {
   "cell_type": "code",
   "execution_count": null,
   "metadata": {},
   "outputs": [],
   "source": [
    "#From a Dictionary with Personalized Index, Method #1\n",
    "data_dict = {'Name':['Tom', 'nick', 'krish', 'jack'],\n",
    "        'Age':[20, 21, 19, 18]}\n",
    " \n",
    "data_dict = pd.DataFrame(data_dict, index =['rank1','rank2','rank3','rank4'])\n",
    "data_dict"
   ]
  },
  {
   "cell_type": "code",
   "execution_count": null,
   "metadata": {},
   "outputs": [],
   "source": [
    "#From a Dictionary with Personalized Index, Method #2\n",
    "data_dict = [{'a': 1, 'b': 2, 'c':3},\n",
    "        {'a':10, 'b': 20, 'c': 30}]\n",
    "\n",
    "data_dict = pd.DataFrame(data_dict, index =['rank1','rank2'])\n",
    " \n",
    "data_dict"
   ]
  },
  {
   "cell_type": "code",
   "execution_count": null,
   "metadata": {},
   "outputs": [],
   "source": [
    "#From a Dictionary with Personalized Index and Selected Columns, Method #3\n",
    "data_dict = [{'a': 1, 'b': 2},\n",
    "        {'a': 5, 'b': 10, 'c': 20}]\n",
    "  \n",
    "#Dropping C\n",
    "data_dict = pd.DataFrame(data_dict, index =['first','second'], columns =['a', 'b'])\n",
    "\n",
    "#Dropping C, B and Making a New One wit Nan Values\n",
    "data_dict1 = pd.DataFrame(data_dict, index =['first','second'], columns =['a', 'b1'])\n",
    "\n",
    "print (\"{} \\n\\n {}\".format(data_dict, data_dict1))"
   ]
  },
  {
   "cell_type": "code",
   "execution_count": null,
   "metadata": {},
   "outputs": [],
   "source": [
    "#Creating Using Series (Into Dict) with Personalized Index\n",
    "data_dict_series = {'one' : pd.Series([10, 20, 30, 40], index =['a', 'b', 'c', 'd']),\n",
    "    'two' : pd.Series([10, 20, 30, 40], index =['a', 'b', 'c', 'd'])}\n",
    " \n",
    "data_dict_series = pd.DataFrame(data_dict_series)\n",
    "data_dict_series"
   ]
  },
  {
   "cell_type": "code",
   "execution_count": null,
   "metadata": {},
   "outputs": [],
   "source": [
    "#From 2 Lists or 2 Tuples\n",
    "Name = ('tom', 'krish', 'nick', 'juli')\n",
    "Age = (25, 30, 26, 22)\n",
    "   \n",
    "#Merge the 2 Objects into 1, Zip Creates a \"Zip\" Data-Type\n",
    "data_combined = pd.DataFrame(zip(Name, Age), columns = ['Names', 'Ages'])\n",
    "data_combined"
   ]
  },
  {
   "cell_type": "markdown",
   "metadata": {},
   "source": [
    "REPLACING & RENAMING"
   ]
  },
  {
   "cell_type": "code",
   "execution_count": null,
   "metadata": {},
   "outputs": [],
   "source": [
    "#Replace NaN for \"Unknown\"\n",
    "df.fillna(\"Unknown\")"
   ]
  },
  {
   "cell_type": "code",
   "execution_count": null,
   "metadata": {},
   "outputs": [],
   "source": [
    "#Update All Values for Another\n",
    "df.pclass = df.pclass.replace(3, 6)\n",
    "df"
   ]
  },
  {
   "cell_type": "code",
   "execution_count": null,
   "metadata": {},
   "outputs": [],
   "source": [
    "#Renaming a Column\n",
    "df.rename(columns={'age': 'edad'})\n",
    "df.rename(columns=dict(age='edad'))\n",
    "\n",
    "#Renaming the Index\n",
    "df.rename(index={0: 'firstEntry', 1: 'secondEntry'}) #Set_index() is usually more convenient.\n",
    "\n",
    "#Naming the Columns and Row Indexes\n",
    "df.rename_axis(\"wines\", axis='rows').rename_axis(\"fields\", axis='columns')\n",
    "\n",
    "#Cut the Last 2 Characters\n",
    "df.who.str[:-2]"
   ]
  },
  {
   "cell_type": "markdown",
   "metadata": {},
   "source": [
    "DELETING"
   ]
  },
  {
   "cell_type": "code",
   "execution_count": null,
   "metadata": {},
   "outputs": [],
   "source": [
    "df.drop([\"sex\", \"age\", \"class\"], axis = 1)"
   ]
  },
  {
   "cell_type": "markdown",
   "metadata": {},
   "source": [
    "INDEXING"
   ]
  },
  {
   "cell_type": "code",
   "execution_count": null,
   "metadata": {},
   "outputs": [],
   "source": [
    "#Indexing a Column/Columns\n",
    "df.who\n",
    "df[\"who\"]\n",
    "df.filter([\"who\", \"age\", \"sex\"])\n",
    "df[[\"who\", \"age\", \"sex\"]]"
   ]
  },
  {
   "cell_type": "code",
   "execution_count": null,
   "metadata": {},
   "outputs": [],
   "source": [
    "#Indexing with Pandas loc: Row, Columns\n",
    "df.loc[0, 'sex']"
   ]
  },
  {
   "cell_type": "code",
   "execution_count": null,
   "metadata": {},
   "outputs": [],
   "source": [
    "#Indexing with Pandas iloc: Row, Columns. loc doesn't Include the Last Value of the Range\n",
    "df.iloc[0:3,[1,2,3]]"
   ]
  },
  {
   "cell_type": "code",
   "execution_count": null,
   "metadata": {},
   "outputs": [],
   "source": [
    "#Indexing with Pandas loc: Row, Columns. loc Includes the Last Value of the Range\n",
    "df.loc[0:3,[\"pclass\",\"sex\",\"age\"]]\t\t"
   ]
  },
  {
   "cell_type": "code",
   "execution_count": null,
   "metadata": {},
   "outputs": [],
   "source": [
    "#Replace the Current Index\n",
    "df.set_index(\"survived\")"
   ]
  },
  {
   "cell_type": "markdown",
   "metadata": {},
   "source": [
    "FILTERING"
   ]
  },
  {
   "cell_type": "code",
   "execution_count": null,
   "metadata": {},
   "outputs": [],
   "source": [
    "#Finds the Max Index\n",
    "max_ratio_index = (df.fare / df.age).idxmax()\n",
    "df.iloc[[max_ratio_index]]"
   ]
  },
  {
   "cell_type": "code",
   "execution_count": null,
   "metadata": {},
   "outputs": [],
   "source": [
    "#Filtering Booleans\n",
    "df.sex == \"male\""
   ]
  },
  {
   "cell_type": "code",
   "execution_count": null,
   "metadata": {},
   "outputs": [],
   "source": [
    "#Filtering Values ==/&/|\n",
    "df.loc[df.sex == \"male\"]\n",
    "\n",
    "df.loc[(df.sex == \"male\") & (df.pclass == 1)]\n",
    "\n",
    "df.loc[(df.sex == \"male\") | (df.pclass == 1)]"
   ]
  },
  {
   "cell_type": "code",
   "execution_count": null,
   "metadata": {},
   "outputs": [],
   "source": [
    "#Filtering Values Isin/~Isin\n",
    "df.loc[df.embark_town.isin(['Southampton', 'Cherbourg'])] #Is in. Can add a list as \"Is in\"\n",
    "\n",
    "df.loc[~df.embark_town.isin(['Southampton', 'Cherbourg'])] #Is not in ~. Can add a list as \"Is in\"\n",
    "\n",
    "df.loc[df.embark_town.isin(['Southampton', 'Cherbourg']) & (df.pclass == 1)].reset_index(drop=True) #Resets and Drops the Old Index"
   ]
  },
  {
   "cell_type": "code",
   "execution_count": null,
   "metadata": {},
   "outputs": [],
   "source": [
    "#Filtering Values Isnull/Notnull\n",
    "len(df.loc[df.deck.isnull()])\n",
    "\n",
    "len(df.loc[df.deck.notnull()])"
   ]
  },
  {
   "cell_type": "code",
   "execution_count": null,
   "metadata": {},
   "outputs": [],
   "source": [
    "#Returns Last Digits\n",
    "df[\"embark_town\"].str[-5:]"
   ]
  },
  {
   "cell_type": "code",
   "execution_count": null,
   "metadata": {},
   "outputs": [],
   "source": [
    "#If Shift() = Previous Row \n",
    "dff = df\n",
    "dff.loc[df['fare'] != dff[\"fare\"].shift(), \"is Fare Equal\"] = \"False\"\n",
    "dff.loc[df['fare'] == dff[\"fare\"].shift(), \"is Fare Equal\"] = \"True\"\n",
    "dff.iloc[89:91]"
   ]
  },
  {
   "cell_type": "markdown",
   "metadata": {},
   "source": [
    "COMBINING"
   ]
  },
  {
   "cell_type": "code",
   "execution_count": null,
   "metadata": {},
   "outputs": [],
   "source": [
    "#Combines Data Frames Vertically: Method #1\n",
    "pclass1 = df.loc[df.pclass == 1]\n",
    "pclass2 = df.loc[(df.pclass != 1) & (df.pclass != 3)]\n",
    "\n",
    "pclass12 = pclass1.append(pclass2, ignore_index=True)\n",
    "pclass12"
   ]
  },
  {
   "cell_type": "code",
   "execution_count": null,
   "metadata": {},
   "outputs": [],
   "source": [
    "#Combines Data Frames Vertically: Method #2\n",
    "pclass2 = df.loc[(df.pclass != 1) & (df.pclass != 3)]\n",
    "pclass3 = df.loc[df.pclass == 3]\n",
    "\n",
    "pclass23 = pd.concat([pclass2, pclass3], ignore_index=True)\n",
    "pclass23"
   ]
  },
  {
   "cell_type": "code",
   "execution_count": null,
   "metadata": {},
   "outputs": [],
   "source": [
    "#Combines Data Frames Horizontally with a Personalized Index\n",
    "pclass2.set_index('who').join(pclass3.set_index('who'), rsuffix = \"P3\")"
   ]
  },
  {
   "cell_type": "code",
   "execution_count": null,
   "metadata": {},
   "outputs": [],
   "source": [
    "#Combines 2 Columns into 1 Column (Doesnt Modify the Original Dataframe)\n",
    "df.sex + \" - \" + df.who"
   ]
  },
  {
   "cell_type": "markdown",
   "metadata": {},
   "source": [
    "CONVERT"
   ]
  },
  {
   "cell_type": "code",
   "execution_count": null,
   "metadata": {},
   "outputs": [],
   "source": [
    "#Convert Columns using \"astype\"\n",
    "df = df.dropna().reset_index(drop=True)\n",
    "df[[\"age\", \"fare\"]] = df[[\"age\", \"fare\"]].astype(int)\n",
    "df"
   ]
  },
  {
   "cell_type": "code",
   "execution_count": null,
   "metadata": {},
   "outputs": [],
   "source": [
    "#Downcast To Save Memory Space\n",
    "df[\"age\"] = pd.to_numeric(df[\"age\"], downcast='integer')\n",
    "df[\"age\"]"
   ]
  },
  {
   "cell_type": "code",
   "execution_count": null,
   "metadata": {},
   "outputs": [],
   "source": [
    "#Convert Columns A and B to Numeric\n",
    "dff = df\n",
    "dff[\"who\"] = pd.to_numeric(dff[\"who\"], errors = \"coerce\") #\"coerce\" Passes \"NaN\", \"ignore\" Ignores \n",
    "dff.dtypes"
   ]
  },
  {
   "cell_type": "markdown",
   "metadata": {},
   "source": [
    "SORTING & GROUPING"
   ]
  },
  {
   "cell_type": "code",
   "execution_count": null,
   "metadata": {},
   "outputs": [],
   "source": [
    "#Sort By\n",
    "df.sort_values(by=[\"fare\"], ascending=False).reset_index(drop=True)\n",
    "\n",
    "df.groupby(['who', 'sex']).age.agg([len, min, max]).reset_index().sort_values(by=\"len\")\n",
    "\n",
    "df.groupby(['who', 'sex']).age.agg([len, min, max]).reset_index().sort_index()\n",
    "\n",
    "df.groupby(['who', 'sex']).age.agg([len, min, max]).reset_index().sort_values(by=[\"len\", \"sex\"])\n",
    "\n",
    "df.groupby('who').age.agg([min, max]).sort_values(['min', 'max'], ascending=False)"
   ]
  },
  {
   "cell_type": "code",
   "execution_count": null,
   "metadata": {},
   "outputs": [],
   "source": [
    "#Group by And Count/Sum\n",
    "df.groupby(by=\"who\").who.count().reset_index(drop=True)\n",
    "\n",
    "df.groupby(by=\"fare\").fare.sum().reset_index(drop=True)\n",
    "\n",
    "df.groupby(by=\"fare\").fare.min().reset_index(drop=True)\n",
    "\n",
    "df.groupby('who').size() #Method 1\n",
    "\n",
    "df.groupby('who').who.count() #Method 2\n",
    "\n",
    "df.groupby('who').apply(lambda f: f.fare.iloc[0]) #First Fare Paid Grouped by \"Who\"\n",
    "\n",
    "df.groupby(['who', 'sex']).apply(lambda f: f.loc[f.age.idxmax()]) #Max Age Grouped by \"Who\" and \"Sex\", Method 1\n",
    "\n",
    "df.groupby(['who',\"sex\"])['age'].max().sort_index() ##Max Age Grouped by \"Who\" and \"Sex\", Method 2\n",
    "\n",
    "df.groupby('who')['sex'].max().sort_index()\n",
    "\n",
    "df.groupby(['sex']).age.agg([len, min, max]) #Statistical Summary of the Dataset\n",
    "\n",
    "df.groupby(['who', 'sex']).age.agg([len, min, max]).reset_index() #Statistical Summary of the Dataset\n",
    "\n",
    "df.groupby(by=[\"who\"]).age.mean() #Average Age of a Group\n"
   ]
  },
  {
   "cell_type": "markdown",
   "metadata": {},
   "source": [
    "SUMMARY FUNCTIONS"
   ]
  },
  {
   "cell_type": "code",
   "execution_count": null,
   "metadata": {},
   "outputs": [],
   "source": [
    "#Describes the Datatype\n",
    "df.fare.describe()\n",
    "\n",
    "#List of Unique Values\n",
    "df.fare.unique()\n",
    "\n",
    "#List of Unique Values with Frequency\n",
    "df.fare.value_counts()\n",
    "\n",
    "#Finds the Mean\n",
    "df.fare.mean()"
   ]
  },
  {
   "cell_type": "code",
   "execution_count": null,
   "metadata": {},
   "outputs": [],
   "source": [
    "#Remean to 0, Returns a New Serie (Doesnt Modify the Original)\n",
    "#(Note: this 'centering' transformation is a common preprocessing step before applying various machine learning algorithm)\n",
    "fare_mean = df.fare.mean()\n",
    "df.fare.map(lambda p: p - fare_mean)\n",
    "\n",
    "#Mapping: How many times \"man\" is written\n",
    "df.who.map(lambda a: a == \"man\").sum()\n",
    "\n",
    "#Faster Remean to 0, Returns a New Serie (Doesnt Modify the Original)\n",
    "fare_mean = df.fare.mean()\n",
    "df.fare - fare_mean\n",
    "\n",
    "#\"Apply\" is Calling a custom method on each row. Returns a New Dataframe (Doesnt Modify the Original) \n",
    "def remean_fare(row):\n",
    "    row.fare = row.fare - fare_mean\n",
    "    return row\n",
    "\n",
    "df.apply(remean_fare, axis='columns')"
   ]
  }
 ],
 "metadata": {
  "interpreter": {
   "hash": "27f7027287d0420c17ddf1ee3a6e27c4da757938958e2fc007cfc07292c6f624"
  },
  "kernelspec": {
   "display_name": "Python 3.9.5 64-bit",
   "name": "python3"
  },
  "language_info": {
   "codemirror_mode": {
    "name": "ipython",
    "version": 3
   },
   "file_extension": ".py",
   "mimetype": "text/x-python",
   "name": "python",
   "nbconvert_exporter": "python",
   "pygments_lexer": "ipython3",
   "version": "3.9.5"
  },
  "orig_nbformat": 4
 },
 "nbformat": 4,
 "nbformat_minor": 2
}
