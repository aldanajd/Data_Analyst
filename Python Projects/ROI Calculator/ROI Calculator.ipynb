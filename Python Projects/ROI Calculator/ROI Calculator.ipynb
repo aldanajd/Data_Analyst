{
 "cells": [
  {
   "cell_type": "code",
   "execution_count": null,
   "metadata": {},
   "outputs": [],
   "source": [
    "# Requirements\n",
    "import matplotlib.pyplot as plt\n",
    "import seaborn as sns\n",
    "import numpy as np\n",
    "import pandas as pd\n",
    "sns.set()"
   ]
  },
  {
   "cell_type": "code",
   "execution_count": null,
   "metadata": {},
   "outputs": [],
   "source": [
    "# Starting equity\n",
    "initial_equity = 3000\n",
    "\n",
    "# Date of Earnings\n",
    "date = [\"10/10\", \"10/11\", \"10/12\", \"10/13\", \"10/14\", \"10/15\", \"10/16\"]  \n",
    "\n",
    "# Earnings, USD\n",
    "earnings = [5.06, 15.48, 8.92, 7.97, 18.89, 7.27, 12.82] \n",
    "\n",
    "df = pd.DataFrame(earnings, columns = [\"USDT/Day\"], index = date)\n",
    "df = df.sort_index(ascending=False)\n",
    "\n",
    "df[\"%\"] = round(df[\"USDT/Day\"]*100/initial_equity,2)\n",
    "total_roi = round(sum(df[\"%\"]),2)\n",
    "\n",
    "df\n"
   ]
  },
  {
   "cell_type": "code",
   "execution_count": null,
   "metadata": {},
   "outputs": [],
   "source": [
    "\"The Total ROI in the Last {} Days is {}%, You Will Expect to Earn {}% per Month\".format(len(df.index), total_roi, round(30/(len(df.index))*total_roi,2))"
   ]
  },
  {
   "cell_type": "code",
   "execution_count": null,
   "metadata": {},
   "outputs": [],
   "source": [
    "initial_equity2 = 700 #ADD Equity\n",
    "date2 = [\"10/10\", \"10/11\", \"10/12\", \"10/13\", \"10/14\", \"10/15\", \"10/16\"]  #ADD Date\n",
    "earnings2 = [1.2 ,0.52, 3.59, 3.1, 6.2, 1.7, 1.99] #ADD Earnings\n",
    "\n",
    "df2 = pd.DataFrame(earnings2, columns = [\"USDT/Day\"], index = date2)\n",
    "df2 = df2.sort_index(ascending=False)\n",
    "\n",
    "df2[\"%\"] = round(df2[\"USDT/Day\"]*100/initial_equity2,2)\n",
    "total_roi2 = round(sum(df2[\"%\"]),2)\n",
    "\n",
    "df2"
   ]
  },
  {
   "cell_type": "code",
   "execution_count": null,
   "metadata": {},
   "outputs": [],
   "source": [
    "\"The Total ROI in the Last {} Days is {}%, You Will Expect to Earn {}% per Month\".format(len(df2.index), total_roi2, round(30/(len(df2.index))*total_roi2,2))"
   ]
  },
  {
   "cell_type": "code",
   "execution_count": null,
   "metadata": {},
   "outputs": [],
   "source": [
    "df = df.sort_index(ascending=True)\n",
    "df2 = df2.sort_index(ascending=True)\n",
    "\n",
    "plt.plot(df.index, df[\"%\"], color=\"green\", marker = \".\", lw=2, label = \"Ric/JD = \" + str(total_roi) + \"%\")\n",
    "plt.plot(df.index, df2[\"%\"], color=\"red\", marker = \".\", lw=2, label = \"Rodis = \" + str(total_roi2) + \"%\")\n",
    "plt.title (\"ROI Comparison\")\n",
    "plt.xlabel (\"Date\")\n",
    "plt.ylabel (\"% per Day\")\n",
    "plt.legend()"
   ]
  }
 ],
 "metadata": {
  "interpreter": {
   "hash": "27f7027287d0420c17ddf1ee3a6e27c4da757938958e2fc007cfc07292c6f624"
  },
  "kernelspec": {
   "display_name": "Python 3.9.5 64-bit",
   "name": "python3"
  },
  "language_info": {
   "codemirror_mode": {
    "name": "ipython",
    "version": 3
   },
   "file_extension": ".py",
   "mimetype": "text/x-python",
   "name": "python",
   "nbconvert_exporter": "python",
   "pygments_lexer": "ipython3",
   "version": "3.9.5"
  },
  "orig_nbformat": 4
 },
 "nbformat": 4,
 "nbformat_minor": 2
}
